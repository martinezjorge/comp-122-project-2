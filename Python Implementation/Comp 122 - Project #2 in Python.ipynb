{
 "cells": [
  {
   "cell_type": "markdown",
   "metadata": {},
   "source": [
    "I tried to do this as assembly-style as possible. This could have been done in a more human readable way but then I think it would have been a little harder to translate it into assembly language."
   ]
  },
  {
   "cell_type": "code",
   "execution_count": 6,
   "metadata": {},
   "outputs": [
    {
     "name": "stdout",
     "output_type": "stream",
     "text": [
      "['\"Blind love couldn\\'t win as the facts all came in. But I know I\\'ll again chase after wind. What have I got if not a thought?\"']\n",
      "125\n",
      "['\"', 'B', 'L', '*', 'N', 'D', ' ', 'L', '*', 'V', '*', ' ', 'C', '*', '*', 'L', 'D', 'N', \"'\", 'T', ' ', 'W', '*', 'N', ' ', '*', 'S', ' ', 'T', 'H', '*', ' ', 'F', '*', 'C', 'T', 'S', ' ', '*', 'L', 'L', ' ', 'C', '*', 'M', '*', ' ', '*', 'N', '.', ' ', 'B', '*', 'T', ' ', '*', ' ', 'K', 'N', '*', 'W', ' ', '*', \"'\", 'L', 'L', ' ', '*', 'G', '*', '*', 'N', ' ', 'C', 'H', '*', 'S', '*', ' ', '*', 'F', 'T', '*', 'R', ' ', 'W', '*', 'N', 'D', '.', ' ', 'W', 'H', '*', 'T', ' ', 'H', '*', 'V', '*', ' ', '*', ' ', 'G', '*', 'T', ' ', '*', 'F', ' ', 'N', '*', 'T', ' ', '*', ' ', 'T', 'H', '*', '*', 'G', 'H', 'T', '?', '\"']\n",
      "\"BL*ND L*V* C**LDN'T W*N *S TH* F*CTS *LL C*M* *N. B*T * KN*W *'LL *G**N CH*S* *FT*R W*ND. WH*T H*V* * G*T *F N*T * TH**GHT?\"\n",
      "125\n"
     ]
    }
   ],
   "source": [
    "file = open(\"input.txt\")\n",
    "for line in file:\n",
    "    string = line.split(\"\\n\")\n",
    "\n",
    "print(string)\n",
    "print(len(string[0]))\n",
    "modString = []\n",
    "for i in range(len(string[0])):\n",
    "    ascVal = ord(string[0][i])\n",
    "    if (ascVal > 64 and ascVal < 123):\n",
    "        if (ascVal > 96):\n",
    "            ascVal = ascVal - 32\n",
    "            if (ascVal == 65 or ascVal == 69 \n",
    "                or ascVal == 73 or ascVal == 79 or ascVal == 85):\n",
    "                modString.append('*')\n",
    "            else:\n",
    "                modString.append(chr(ascVal))\n",
    "        else:\n",
    "            if(ascVal == 65 or ascVal == 69 \n",
    "                or ascVal == 73 or ascVal == 79 or ascVal == 85):\n",
    "                modString.append('*')\n",
    "            else:\n",
    "                modString.append(string[0][i])\n",
    "    else:\n",
    "        modString.append(string[0][i])\n",
    "\n",
    "file.close()\n",
    "\n",
    "print(modString)\n",
    "\n",
    "file = open(\"output.txt\",\"w+\")\n",
    "for i in range(len(modString)):\n",
    "    file.write(modString[i])\n",
    "file.close()\n",
    "\n",
    "modString = \"\".join(modString)\n",
    "print(modString)\n",
    "print(len(modString))"
   ]
  },
  {
   "cell_type": "code",
   "execution_count": null,
   "metadata": {},
   "outputs": [],
   "source": []
  }
 ],
 "metadata": {
  "kernelspec": {
   "display_name": "Python 3",
   "language": "python",
   "name": "python3"
  },
  "language_info": {
   "codemirror_mode": {
    "name": "ipython",
    "version": 3
   },
   "file_extension": ".py",
   "mimetype": "text/x-python",
   "name": "python",
   "nbconvert_exporter": "python",
   "pygments_lexer": "ipython3",
   "version": "3.6.5"
  }
 },
 "nbformat": 4,
 "nbformat_minor": 2
}
